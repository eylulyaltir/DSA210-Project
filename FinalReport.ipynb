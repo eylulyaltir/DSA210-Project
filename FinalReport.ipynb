{
  "nbformat": 4,
  "nbformat_minor": 0,
  "metadata": {
    "colab": {
      "provenance": [],
      "authorship_tag": "ABX9TyNs/v5mFK9n8O7NkxrBzK58",
      "include_colab_link": true
    },
    "kernelspec": {
      "name": "python3",
      "display_name": "Python 3"
    },
    "language_info": {
      "name": "python"
    }
  },
  "cells": [
    {
      "cell_type": "markdown",
      "metadata": {
        "id": "view-in-github",
        "colab_type": "text"
      },
      "source": [
        "<a href=\"https://colab.research.google.com/github/eylulyaltir/DSA210-Project/blob/main/FinalReport.ipynb\" target=\"_parent\"><img src=\"https://colab.research.google.com/assets/colab-badge.svg\" alt=\"Open In Colab\"/></a>"
      ]
    },
    {
      "cell_type": "markdown",
      "source": [
        "**Analyzing the Impact of Weather on My Personal Spending Habits**\n",
        "\n",
        "**Abstract**\n",
        "\n",
        "This project investigates whether weather conditions have a significant effect on personal spending behavior. By merging transaction data from my bank records with meteorological data from Visual Crossing, I explore correlations using both statistical tests and machine learning methods. The results suggest that while direct statistical significance is minimal, predictive models like Random Forest can reasonably forecast spending behavior using weather and time features.\n",
        "\n",
        "**Introduction**\n",
        "\n",
        "Human behavior is often influenced by environmental conditions. This project aims to investigate whether weather elements such as temperature and precipitation impact my daily spending patterns. The primary objectives include identifying trends, detecting correlations between categorized expenses and weather conditions, and using statistical and machine learning methods to predict future spending.\n",
        "\n",
        "**Null Hypothesis (H₀)**: There is no statistically significant relationship between weather conditions and my spending behavior.\n",
        "\n",
        "**Alternative Hypothesis (H₁)**: There is a statistically significant relationship between weather conditions and my spending behavior.\n",
        "\n",
        "**Data Collection & Preprocessing**\n",
        "\n",
        "Two datasets were used: personal bank transaction data and weather data from Visual Crossing. The transaction data was exported as a CSV file and manually labeled with categories and campus-related tags. The weather data included daily values for temperature, humidity, wind speed, and descriptive conditions. Both datasets were cleaned, reformatted, and merged on the date field to create a unified analysis-ready dataset.\n",
        "\n",
        "**Exploratory Data Analysis (EDA)**\n",
        "\n",
        "EDA revealed patterns in the data through various visualizations including time series plots, scatter plots, histograms, and boxplots. Notable findings include increased spending on weekends and greater variability in specific categories such as Dining Out and Event Tickets.\n",
        "\n",
        "**Statistical Analysis**\n",
        "\n",
        "Three key tests were performed:\n",
        "- T-Test showed no significant difference between rainy and non-rainy day spending (p > 0.05).\n",
        "- ANOVA test found no significant variance across Cold, Mild, and Warm temperature categories (p > 0.8).\n",
        "- Chi-Square test indicated no dependency between rain occurrence and category distribution (p > 0.3).\n",
        "\n",
        "**Feature Engineering**\n",
        "To enhance model performance and insight generation, several features were added: `day_of_week` and `is_weekend` to capture temporal spending patterns, `temp_group` to categorize temperature, and `is_rain` to flag rainy days.\n",
        "\n",
        "**Machine Learning Modeling**\n",
        "\n",
        "Three regression models were trained: Linear Regression, K-Nearest Neighbors (K=3), and Random Forest. The models were trained on transaction data enriched with weather and time-based features. Forecast weather data was used to predict spending for the next 30 days, and the predictions were compared to actual spending records for validation.\n",
        "\n",
        "**Results & Evaluation**\n",
        "\n",
        "Predicted spending trends closely followed actual trends. Random Forest delivered the most consistent and accurate predictions, while Linear Regression underperformed during extreme value days. Visual comparisons further confirmed that models using temporal and weather features can approximate real spending behavior.\n",
        "\n",
        "**Discussion & Limitations**\n",
        "\n",
        "The models performed reasonably well considering the limited dataset. However, the study is based solely on personal data, limiting generalizability. Moreover, not all spending drivers are weather-related. Factors such as mood, academic deadlines, and social obligations are unaccounted for.\n",
        "\n",
        "**Conclusion**\n",
        "\n",
        "While no statistically significant impact of weather on spending was found, machine learning models, particularly Random Forest, were able to use weather and weekday patterns to forecast spending trends. This project highlights the potential of using external data in personal finance applications and opens the door to future research on broader datasets.\n",
        "\n",
        "**References**\n",
        "- Visual Crossing Weather Data: https://www.visualcrossing.com\n",
        "- Python libraries: pandas, seaborn, matplotlib, scikit-learn, openpyxl\n",
        "\n",
        "\n"
      ],
      "metadata": {
        "id": "2jg2EKHOf74v"
      }
    }
  ]
}